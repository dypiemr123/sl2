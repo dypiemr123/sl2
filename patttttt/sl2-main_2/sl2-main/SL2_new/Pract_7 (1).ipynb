{
 "cells": [
  {
   "cell_type": "code",
   "execution_count": 1,
   "id": "dc41f235-0791-464f-9232-08be9b7b7853",
   "metadata": {},
   "outputs": [],
   "source": [
    "import\tnumpy\tas\tnp"
   ]
  },
  {
   "cell_type": "code",
   "execution_count": 2,
   "id": "5813150a-6b39-4458-bafd-8bae5119dde9",
   "metadata": {},
   "outputs": [
    {
     "name": "stdout",
     "output_type": "stream",
     "text": [
      "Epoch 0, Error: 0.49941109351361046\n",
      "Epoch 1000, Error: 0.22803979949799516\n",
      "Epoch 2000, Error: 0.05786640318155922\n",
      "Epoch 3000, Error: 0.03941934170113357\n",
      "Epoch 4000, Error: 0.03152235059253211\n",
      "Epoch 5000, Error: 0.026929969780262443\n",
      "Epoch 6000, Error: 0.02385194637885258\n",
      "Epoch 7000, Error: 0.02161098032579959\n",
      "Epoch 8000, Error: 0.01988835633307314\n",
      "Epoch 9000, Error: 0.018512286054990005\n",
      "\n",
      "Final Output after training:\n",
      "[[0.01920538]\n",
      " [0.98342777]\n",
      " [0.98341196]\n",
      " [0.01716291]]\n"
     ]
    }
   ],
   "source": [
    "# Sigmoid activation function and its derivative\n",
    "def sigmoid(x):\n",
    "    return 1 / (1 + np.exp(-x))\n",
    "\n",
    "def sigmoid_derivative(x):\n",
    "    return x * (1 - x)\n",
    "\n",
    "# Input data for XOR function\n",
    "X = np.array([[0, 0], [0, 1], [1, 0], [1, 1]])\n",
    "\n",
    "# Output data (labels for XOR function)\n",
    "y = np.array([[0], [1], [1], [0]])\n",
    "\n",
    "# Seed random numbers for consistent results\n",
    "np.random.seed(42)\n",
    "\n",
    "# Initialize weights randomly with mean 0\n",
    "input_layer_neurons = 2\n",
    "hidden_layer_neurons = 2\n",
    "output_neurons = 1\n",
    "\n",
    "# Random weight initialization\n",
    "weights_input_hidden = np.random.uniform(size=(input_layer_neurons, hidden_layer_neurons))\n",
    "weights_hidden_output = np.random.uniform(size=(hidden_layer_neurons, output_neurons))\n",
    "\n",
    "# Bias initialization\n",
    "bias_hidden = np.random.uniform(size=(1, hidden_layer_neurons))\n",
    "bias_output = np.random.uniform(size=(1, output_neurons))\n",
    "\n",
    "# Training parameters\n",
    "learning_rate = 0.5\n",
    "epochs = 10000\n",
    "\n",
    "# Training process\n",
    "for epoch in range(epochs):\n",
    "    # Forward Propagation\n",
    "    hidden_input = np.dot(X, weights_input_hidden) + bias_hidden\n",
    "    hidden_output = sigmoid(hidden_input)\n",
    "    \n",
    "    final_input = np.dot(hidden_output, weights_hidden_output) + bias_output\n",
    "    final_output = sigmoid(final_input)\n",
    "    \n",
    "    # Compute error\n",
    "    error = y - final_output\n",
    "    \n",
    "    # Backpropagation\n",
    "    d_output = error * sigmoid_derivative(final_output)\n",
    "    error_hidden_layer = d_output.dot(weights_hidden_output.T)\n",
    "    d_hidden_layer = error_hidden_layer * sigmoid_derivative(hidden_output)\n",
    "    \n",
    "    # Update weights and biases\n",
    "    weights_hidden_output += hidden_output.T.dot(d_output) * learning_rate\n",
    "    weights_input_hidden += X.T.dot(d_hidden_layer) * learning_rate\n",
    "    bias_output += np.sum(d_output, axis=0, keepdims=True) * learning_rate\n",
    "    bias_hidden += np.sum(d_hidden_layer, axis=0, keepdims=True) * learning_rate\n",
    "    \n",
    "    # Print error every 1000 epochs\n",
    "    if epoch % 1000 == 0:\n",
    "        print(f'Epoch {epoch}, Error: {np.mean(np.abs(error))}')\n",
    "\n",
    "# Testing the trained network\n",
    "print(\"\\nFinal Output after training:\")\n",
    "print(final_output)\n"
   ]
  },
  {
   "cell_type": "code",
   "execution_count": null,
   "id": "8839c7f3-1444-47af-8604-584f2f239051",
   "metadata": {},
   "outputs": [],
   "source": []
  }
 ],
 "metadata": {
  "kernelspec": {
   "display_name": "py310",
   "language": "python",
   "name": "py310"
  },
  "language_info": {
   "codemirror_mode": {
    "name": "ipython",
    "version": 3
   },
   "file_extension": ".py",
   "mimetype": "text/x-python",
   "name": "python",
   "nbconvert_exporter": "python",
   "pygments_lexer": "ipython3",
   "version": "3.10.16"
  }
 },
 "nbformat": 4,
 "nbformat_minor": 5
}
