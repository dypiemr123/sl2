{
 "cells": [
  {
   "cell_type": "code",
   "execution_count": null,
   "metadata": {
    "id": "18qFFMheU4uO"
   },
   "outputs": [],
   "source": [
    "import torch\n",
    "import numpy as np\n",
    "import os\n",
    "from PIL import Image, ImageDraw, ImageFont\n",
    "import matplotlib.pyplot as plt"
   ]
  },
  {
   "cell_type": "code",
   "execution_count": null,
   "metadata": {
    "colab": {
     "base_uri": "https://localhost:8080/",
     "height": 1115
    },
    "id": "Pv4luZRWSVZ_",
    "outputId": "bbe9a17a-deb4-4e70-fc34-0909dfa31b78"
   },
   "outputs": [],
   "source": [
    "# Load pre-trained YOLOv5 model\n",
    "model = torch.hub.load('ultralytics/yolov5', 'yolov5s')  # Correct repository\n",
    "model.conf = 0.25  # Set confidence threshold\n",
    "\n",
    "def detect_objects(image_path):\n",
    "    \"\"\"Detect objects in an image using YOLOv5.\"\"\"\n",
    "    if not os.path.exists(image_path):\n",
    "        print(f\"Error: Image '{image_path}' not found.\")\n",
    "        return None\n",
    "    image = Image.open(image_path).convert(\"RGB\")  # Ensure correct format\n",
    "    results = model(image)  # Perform inference\n",
    "    results.show()\n",
    "\n",
    "    detections = results.pandas().xyxy[0]  # Get bounding boxes\n",
    "    if detections.empty:\n",
    "        print(\"No objects detected.\")\n",
    "        return None\n",
    "\n",
    "    return detections\n",
    "\n",
    "def plot_detections(image_path, detections):\n",
    "    \"\"\"Plot detected objects on the image.\"\"\"\n",
    "    if detections is None:\n",
    "        print(\"No objects to plot.\")\n",
    "        return\n",
    "    image = Image.open(image_path).convert(\"RGB\")\n",
    "    draw = ImageDraw.Draw(image)\n",
    "    font = ImageFont.load_default()\n",
    "\n",
    "    for _, row in detections.iterrows():\n",
    "        x1, y1, x2, y2 = int(row['xmin']), int(row['ymin']), int(row['xmax']), int(row['ymax'])\n",
    "        label = f\"{row['name']} ({row['confidence']:.2f})\"\n",
    "        draw.rectangle([x1, y1, x2, y2], outline=\"green\", width=2)\n",
    "        draw.text((x1, y1 - 10), label, fill=\"green\", font=font)\n",
    "\n",
    "    plt.imshow(image)\n",
    "    plt.axis(\"off\")\n",
    "    plt.show()\n",
    "\n",
    "if __name__ == \"__main__\":\n",
    "    image_path = \"new.jpg\"  # Ensure this file exists in the working directory\n",
    "    detections = detect_objects(image_path)\n",
    "    if detections is not None:\n",
    "        print(detections)\n",
    "        plot_detections(image_path, detections)\n"
   ]
  }
 ],
 "metadata": {
  "accelerator": "GPU",
  "colab": {
   "gpuType": "T4",
   "provenance": []
  },
  "kernelspec": {
   "display_name": "py310",
   "language": "python",
   "name": "py310"
  },
  "language_info": {
   "codemirror_mode": {
    "name": "ipython",
    "version": 3
   },
   "file_extension": ".py",
   "mimetype": "text/x-python",
   "name": "python",
   "nbconvert_exporter": "python",
   "pygments_lexer": "ipython3",
   "version": "3.10.16"
  }
 },
 "nbformat": 4,
 "nbformat_minor": 4
}
