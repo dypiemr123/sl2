{
 "cells": [
  {
   "cell_type": "code",
   "execution_count": 1,
   "id": "90a9821f-f342-460c-bcc1-5aa8fde330bd",
   "metadata": {},
   "outputs": [],
   "source": [
    "import numpy as np"
   ]
  },
  {
   "cell_type": "code",
   "execution_count": 2,
   "id": "476b28f4-885b-4b35-aee6-6b7d062c52e2",
   "metadata": {},
   "outputs": [
    {
     "name": "stdout",
     "output_type": "stream",
     "text": [
      "Noisy Input: [ 1 -1 -1 -1]\n",
      "Recalled Pattern: [ 1.  1.  1. -1.]\n"
     ]
    }
   ],
   "source": [
    "class HopfieldNetwork:\n",
    "    def __init__(self, size):\n",
    "        self.size = size\n",
    "        self.weights = np.zeros((size, size))\n",
    "\n",
    "    def train(self, patterns):\n",
    "        for p in patterns:\n",
    "            p = p.reshape(-1, 1)\n",
    "            self.weights += np.dot(p, p.T)\n",
    "        np.fill_diagonal(self.weights, 0)  # No self-connection\n",
    "\n",
    "    def recall(self, pattern, steps=5):\n",
    "        for _ in range(steps):\n",
    "            pattern = np.sign(np.dot(self.weights, pattern))\n",
    "        return pattern\n",
    "\n",
    "# Define the stored patterns (4 vectors)\n",
    "stored_patterns = np.array([\n",
    "    [1, -1, 1, -1],\n",
    "    [-1, 1, -1, 1],\n",
    "    [1, 1, -1, -1],\n",
    "    [-1, -1, 1, 1]\n",
    "])\n",
    "\n",
    "# Initialize and train the Hopfield Network\n",
    "hopfield_net = HopfieldNetwork(size=4)\n",
    "hopfield_net.train(stored_patterns)\n",
    "\n",
    "# Test the network with a noisy input\n",
    "noisy_input = np.array([1, -1, -1, -1])\n",
    "recalled_pattern = hopfield_net.recall(noisy_input)\n",
    "\n",
    "print(\"Noisy Input:\", noisy_input)\n",
    "print(\"Recalled Pattern:\", recalled_pattern)\n"
   ]
  },
  {
   "cell_type": "code",
   "execution_count": null,
   "id": "2c5ce17d-ab5f-412b-a445-553596286702",
   "metadata": {},
   "outputs": [],
   "source": []
  }
 ],
 "metadata": {
  "kernelspec": {
   "display_name": "py310",
   "language": "python",
   "name": "py310"
  },
  "language_info": {
   "codemirror_mode": {
    "name": "ipython",
    "version": 3
   },
   "file_extension": ".py",
   "mimetype": "text/x-python",
   "name": "python",
   "nbconvert_exporter": "python",
   "pygments_lexer": "ipython3",
   "version": "3.10.16"
  }
 },
 "nbformat": 4,
 "nbformat_minor": 5
}
