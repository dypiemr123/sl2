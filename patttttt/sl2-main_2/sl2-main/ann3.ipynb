{
 "cells": [
  {
   "cell_type": "code",
   "execution_count": 3,
   "id": "8b48f0ff-9227-446e-8539-b9b3a15bc097",
   "metadata": {},
   "outputs": [
    {
     "name": "stdin",
     "output_type": "stream",
     "text": [
      "Enter a Number (0-9):  0\n"
     ]
    },
    {
     "name": "stdout",
     "output_type": "stream",
     "text": [
      "0 is even\n"
     ]
    }
   ],
   "source": [
    "import numpy as np\n",
    "\n",
    "# Step function (Threshold Activation)\n",
    "step_function = lambda x: 1 if x >= 0 else 0\n",
    "\n",
    "# Correct Training Data (6-bit Binary Representation for Numbers 0-9)\n",
    "training_data = [\n",
    "    {'input': [0, 0, 0, 0, 0, 0], 'label': 1},  # 0 (Even)\n",
    "    {'input': [0, 0, 0, 0, 0, 1], 'label': 0},  # 1 (Odd)\n",
    "    {'input': [0, 0, 0, 0, 1, 0], 'label': 1},  # 2 (Even)\n",
    "    {'input': [0, 0, 0, 0, 1, 1], 'label': 0},  # 3 (Odd)\n",
    "    {'input': [0, 0, 0, 1, 0, 0], 'label': 1},  # 4 (Even)\n",
    "    {'input': [0, 0, 0, 1, 0, 1], 'label': 0},  # 5 (Odd)\n",
    "    {'input': [0, 0, 0, 1, 1, 0], 'label': 1},  # 6 (Even)\n",
    "    {'input': [0, 0, 0, 1, 1, 1], 'label': 0},  # 7 (Odd)\n",
    "    {'input': [0, 0, 1, 0, 0, 0], 'label': 1},  # 8 (Even)\n",
    "    {'input': [0, 0, 1, 0, 0, 1], 'label': 0},  # 9 (Odd)\n",
    "]\n",
    "\n",
    "# Initialize weights with small random values\n",
    "weights = np.random.rand(6) * 0.1  \n",
    "learning_rate = 0.1  # Small learning rate\n",
    "\n",
    "# Training the perceptron\n",
    "for _ in range(100):  # Training for 100 epochs to ensure convergence\n",
    "    for data in training_data:\n",
    "        x = np.array(data['input'])  # Convert list to numpy array\n",
    "        label = data['label']\n",
    "        output = step_function(np.dot(x, weights))  # Compute perceptron output\n",
    "        error = label - output\n",
    "        weights += learning_rate * x * error  # Adjust weights\n",
    "\n",
    "# Get user input\n",
    "j = int(input(\"Enter a Number (0-9): \"))\n",
    "\n",
    "# Convert user input to 6-bit binary\n",
    "input_binary = [int(x) for x in list('{0:06b}'.format(j))]\n",
    "\n",
    "# Predict output\n",
    "output = \"odd\" if step_function(np.dot(input_binary, weights)) == 0 else \"even\"\n",
    "\n",
    "print(j, \"is\", output)\n"
   ]
  },
  {
   "cell_type": "code",
   "execution_count": null,
   "id": "1e810f4e-67b9-4200-9ce5-69506af05421",
   "metadata": {},
   "outputs": [],
   "source": []
  }
 ],
 "metadata": {
  "kernelspec": {
   "display_name": "Python 3 (ipykernel)",
   "language": "python",
   "name": "python3"
  },
  "language_info": {
   "codemirror_mode": {
    "name": "ipython",
    "version": 3
   },
   "file_extension": ".py",
   "mimetype": "text/x-python",
   "name": "python",
   "nbconvert_exporter": "python",
   "pygments_lexer": "ipython3",
   "version": "3.12.4"
  }
 },
 "nbformat": 4,
 "nbformat_minor": 5
}
