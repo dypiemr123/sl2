{
 "cells": [
  {
   "cell_type": "code",
   "execution_count": null,
   "id": "fa930a00-92be-4b53-b88b-ca4157a3cb76",
   "metadata": {},
   "outputs": [],
   "source": [
    "Name: Aarya Admane Rollno: 22630 B2"
   ]
  },
  {
   "cell_type": "code",
   "execution_count": 31,
   "id": "185cad83-c83a-4d02-8a93-794eda0c457a",
   "metadata": {},
   "outputs": [],
   "source": [
    "import\tnumpy\tas\tnp"
   ]
  },
  {
   "cell_type": "code",
   "execution_count": 32,
   "id": "74bc1b3b-9d66-4f04-af60-97d918654280",
   "metadata": {},
   "outputs": [],
   "source": [
    "#\tSigmoid\tactivation\tfunction\tand\tits\tderivative\n",
    "def\tsigmoid(x):\n",
    " return\t1\t/\t(1\t+\tnp.exp(-x))\n",
    "def\tsigmoid_derivative(x):\n",
    " return\tx\t*\t(1\t-\tx)"
   ]
  },
  {
   "cell_type": "code",
   "execution_count": 33,
   "id": "d30c7af2-0666-4ec2-b876-90f577dce0f0",
   "metadata": {},
   "outputs": [],
   "source": [
    " #\tInput\tdata\tfor\tXOR\tfunction\n",
    " X\t=\tnp.array([[0,\t0],\t[0,\t1],\t[1,\t0],\t[1,\t1]])\n",
    " #\tOutput\tdata\t(labels\tfor\tXOR\tfunction)\n",
    " y\t=\tnp.array([[0],\t[1],\t[1],\t[0]])"
   ]
  },
  {
   "cell_type": "code",
   "execution_count": null,
   "id": "84cde24b-394c-4810-9dd8-d5507bdcce7e",
   "metadata": {},
   "outputs": [],
   "source": [
    " #\tSeed\trandom\tnumbers\tfor\tconsistent\tresults\n",
    " np.random.seed(42)"
   ]
  },
  {
   "cell_type": "code",
   "execution_count": 35,
   "id": "876ce463-9e5e-477a-913a-9948a0ae0b02",
   "metadata": {},
   "outputs": [],
   "source": [
    "#\tInitialize\tweights\trandomly\twith\tmean\t0\n",
    "input_layer_neurons\t=\t2\n",
    "hidden_layer_neurons\t=\t2\n",
    "output_neurons\t=\t1"
   ]
  },
  {
   "cell_type": "code",
   "execution_count": 36,
   "id": "ae174935-fcf0-4dea-b40d-ea3257bbf02d",
   "metadata": {},
   "outputs": [],
   "source": [
    "#\tRandom\tweight\tinitialization\n",
    "weights_input_hidden\t=\tnp.random.uniform(size=(input_layer_neurons,\thidden_layer_neurons))\n",
    "weights_hidden_output\t=\tnp.random.uniform(size=(hidden_layer_neurons,\toutput_neurons))"
   ]
  },
  {
   "cell_type": "code",
   "execution_count": 37,
   "id": "ed5c00eb-345a-401e-989a-7670de89bced",
   "metadata": {},
   "outputs": [],
   "source": [
    " #\tBias\tinitialization\n",
    " bias_hidden\t=\tnp.random.uniform(size=(1,\thidden_layer_neurons))\n",
    " bias_output\t=\tnp.random.uniform(size=(1,\toutput_neurons))"
   ]
  },
  {
   "cell_type": "code",
   "execution_count": 38,
   "id": "1907c78e-5a8f-44fd-837f-e4c56753ad87",
   "metadata": {},
   "outputs": [],
   "source": [
    " #\tTraining\tparameters\n",
    " learning_rate\t=\t0.5\n",
    " epochs\t=\t10000"
   ]
  },
  {
   "cell_type": "code",
   "execution_count": 39,
   "id": "7d3a344d-3c21-4833-baad-d6bfe6bd3c2e",
   "metadata": {},
   "outputs": [],
   "source": [
    "#\tTraining\tprocess\n",
    "for\tepoch\tin\trange(epochs):\n",
    " #\tForward\tPropagation\n",
    " hidden_input\t=\tnp.dot(X,\tweights_input_hidden)\t+\tbias_hidden\n",
    " hidden_output\t=\tsigmoid(hidden_input)\n",
    " final_input\t=\tnp.dot(hidden_output,\tweights_hidden_output)\t+\tbias_output\n",
    " final_output\t=\tsigmoid(final_input)"
   ]
  },
  {
   "cell_type": "code",
   "execution_count": 40,
   "id": "485cef27-eb6f-414d-bda1-32783129e37a",
   "metadata": {},
   "outputs": [],
   "source": [
    " #\tCompute\terror\n",
    " error\t=\ty\t-\tfinal_output"
   ]
  },
  {
   "cell_type": "code",
   "execution_count": 41,
   "id": "e7dfc7af-1f3f-48c6-9d22-5599d09bc6e8",
   "metadata": {},
   "outputs": [],
   "source": [
    " #\tBackpropagation\n",
    " d_output\t=\terror\t*\tsigmoid_derivative(final_output)\n",
    " error_hidden_layer\t=\td_output.dot(weights_hidden_output.T)\n",
    " d_hidden_layer\t=\terror_hidden_layer\t*\tsigmoid_derivative(hidden_output)"
   ]
  },
  {
   "cell_type": "code",
   "execution_count": 42,
   "id": "3a57989f-b13a-437f-9a30-a2cdeba91301",
   "metadata": {},
   "outputs": [],
   "source": [
    " #\tUpdate\tweights\tand\tbiases\n",
    " weights_hidden_output\t+=\thidden_output.T.dot(d_output)\t*\tlearning_rate\n",
    " weights_input_hidden\t+=\tX.T.dot(d_hidden_layer)\t*\tlearning_rate\n",
    " bias_output\t+=\tnp.sum(d_output,\taxis=0,\tkeepdims=True)\t*\tlearning_rate\n",
    " bias_hidden\t+=\tnp.sum(d_hidden_layer,\taxis=0,\tkeepdims=True)\t*\tlearning_rate"
   ]
  },
  {
   "cell_type": "code",
   "execution_count": 43,
   "id": "e58b1fc7-054f-4335-8bc7-6df48d4822a1",
   "metadata": {},
   "outputs": [],
   "source": [
    " #\tPrint\terror\tevery\t1000\tepochs\n",
    "if\tepoch\t%\t1000\t==\t0:\n",
    "     print(f'Epoch\t{epoch},\tError:\t{np.mean(np.abs(error))}')"
   ]
  },
  {
   "cell_type": "code",
   "execution_count": 44,
   "id": "90832e16-9e87-4152-a267-5f6d068d4490",
   "metadata": {},
   "outputs": [
    {
     "name": "stdout",
     "output_type": "stream",
     "text": [
      "\n",
      "Final\tOutput\tafter\ttraining:\n",
      "[[0.68808925]\n",
      " [0.69744107]\n",
      " [0.69633921]\n",
      " [0.7033354 ]]\n"
     ]
    }
   ],
   "source": [
    " #\tTesting\tthe\ttrained\tnetwork\n",
    " print(\"\\nFinal\tOutput\tafter\ttraining:\")\n",
    " print(final_output)"
   ]
  },
  {
   "cell_type": "code",
   "execution_count": null,
   "id": "f0f16578-d97a-46b3-972a-171bccdff1b6",
   "metadata": {},
   "outputs": [],
   "source": []
  },
  {
   "cell_type": "code",
   "execution_count": null,
   "id": "e366ecba-4b11-4c9f-af0b-9d503d8ba808",
   "metadata": {},
   "outputs": [],
   "source": []
  }
 ],
 "metadata": {
  "kernelspec": {
   "display_name": "Python 3 (ipykernel)",
   "language": "python",
   "name": "python3"
  },
  "language_info": {
   "codemirror_mode": {
    "name": "ipython",
    "version": 3
   },
   "file_extension": ".py",
   "mimetype": "text/x-python",
   "name": "python",
   "nbconvert_exporter": "python",
   "pygments_lexer": "ipython3",
   "version": "3.12.4"
  }
 },
 "nbformat": 4,
 "nbformat_minor": 5
}
