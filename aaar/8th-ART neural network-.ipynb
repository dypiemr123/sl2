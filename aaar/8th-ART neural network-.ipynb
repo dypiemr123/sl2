{
 "cells": [
  {
   "cell_type": "code",
   "execution_count": null,
   "id": "e1150e46-23e7-4a1f-b4dd-bcddf0dff89b",
   "metadata": {},
   "outputs": [],
   "source": [
    "Name: Aarya Admane 22630"
   ]
  },
  {
   "cell_type": "code",
   "execution_count": 14,
   "id": "ec260277-9853-4dd9-b3e6-71b8f65c2da8",
   "metadata": {},
   "outputs": [],
   "source": [
    "import numpy as np"
   ]
  },
  {
   "cell_type": "code",
   "execution_count": 15,
   "id": "f550db21-6995-4cf3-94de-3b8177f6577a",
   "metadata": {},
   "outputs": [],
   "source": [
    "class ART1:\n",
    "    def __init__(self, num_features, num_clusters, vigilance=0.5):\n",
    "        self.num_features = num_features\n",
    "        self.num_clusters = num_clusters\n",
    "        self.vigilance = vigilance\n",
    "        self.weights = np.random.rand(num_clusters, num_features)\n",
    "\n",
    "    def complement_coding(self, input_pattern):\n",
    "        return np.concatenate((input_pattern, 1 - input_pattern))\n",
    "\n",
    "    def match_function(self, input_pattern, cluster_weights):\n",
    "        return np.sum(np.minimum(input_pattern, cluster_weights)) / np.sum(input_pattern)\n",
    "\n",
    "    def train(self, input_patterns):  # Ensure this method exists\n",
    "        for input_pattern in input_patterns:\n",
    "            input_pattern = self.complement_coding(input_pattern)\n",
    "            for i in range(self.num_clusters):\n",
    "                match = self.match_function(input_pattern, self.weights[i])\n",
    "                if match >= self.vigilance:\n",
    "                    self.weights[i] = np.minimum(self.weights[i], input_pattern)\n",
    "                    break\n",
    "\n",
    "    def predict(self, input_pattern):\n",
    "        input_pattern = self.complement_coding(input_pattern)\n",
    "        best_match = -1\n",
    "        best_index = -1\n",
    "        for i in range(self.num_clusters):\n",
    "            match = self.match_function(input_pattern, self.weights[i])\n",
    "            if match > best_match and match >= self.vigilance:\n",
    "                best_match = match\n",
    "                best_index = i\n",
    "        return best_index"
   ]
  },
  {
   "cell_type": "code",
   "execution_count": 16,
   "id": "7cf69935-a09c-45b4-bc63-db93700a0b1a",
   "metadata": {},
   "outputs": [
    {
     "name": "stdout",
     "output_type": "stream",
     "text": [
      "The test pattern [1 0 1 0] belongs to cluster 0\n"
     ]
    }
   ],
   "source": [
    "\n",
    "# Running the model\n",
    "if __name__ == \"__main__\":\n",
    "    input_patterns = np.array([\n",
    "        [1, 0, 1, 0],\n",
    "        [1, 1, 0, 0],\n",
    "        [0, 1, 1, 0],\n",
    "        [1, 0, 1, 1]\n",
    "    ])\n",
    "\n",
    "    num_features = input_patterns.shape[1]\n",
    "    num_clusters = 2\n",
    "    vigilance = 0.6\n",
    "\n",
    "    art1 = ART1(num_features * 2, num_clusters, vigilance)\n",
    "    art1.train(input_patterns)  # Check if train() exists\n",
    "    test_pattern = np.array([1, 0, 1, 0])\n",
    "    cluster = art1.predict(test_pattern)\n",
    "    print(f\"The test pattern {test_pattern} belongs to cluster {cluster}\")"
   ]
  },
  {
   "cell_type": "code",
   "execution_count": null,
   "id": "19250d33-3eee-422d-8e4d-0843829dadfd",
   "metadata": {},
   "outputs": [],
   "source": []
  }
 ],
 "metadata": {
  "kernelspec": {
   "display_name": "Python 3 (ipykernel)",
   "language": "python",
   "name": "python3"
  },
  "language_info": {
   "codemirror_mode": {
    "name": "ipython",
    "version": 3
   },
   "file_extension": ".py",
   "mimetype": "text/x-python",
   "name": "python",
   "nbconvert_exporter": "python",
   "pygments_lexer": "ipython3",
   "version": "3.12.4"
  }
 },
 "nbformat": 4,
 "nbformat_minor": 5
}
