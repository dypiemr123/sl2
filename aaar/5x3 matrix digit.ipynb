{
 "cells": [
  {
   "cell_type": "code",
   "execution_count": null,
   "id": "74f7debb-da93-4692-ada5-3ddefeb9457a",
   "metadata": {},
   "outputs": [],
   "source": [
    "Name: Aarya Admane 22630 B2"
   ]
  },
  {
   "cell_type": "code",
   "execution_count": 5,
   "id": "851d6573-9048-4113-b865-8b6a4fbc4459",
   "metadata": {},
   "outputs": [],
   "source": [
    "import numpy as np"
   ]
  },
  {
   "cell_type": "code",
   "execution_count": 7,
   "id": "8f0cfe06-f83b-4118-9867-89ba2cd456d3",
   "metadata": {},
   "outputs": [],
   "source": [
    "# Define 5x3 matrix representations for digits 0-9\n",
    "digits = {\n",
    "    0: [[1, 1, 1],\n",
    "        [1, 0, 1],\n",
    "        [1, 0, 1],\n",
    "        [1, 0, 1],\n",
    "        [1, 1, 1]],\n",
    "    1: [[0, 1, 0],\n",
    "        [1, 1, 0],\n",
    "        [0, 1, 0],\n",
    "        [0, 1, 0],\n",
    "        [1, 1, 1]],\n",
    "    2: [[1, 1, 1],\n",
    "        [0, 0, 1],\n",
    "        [1, 1, 1],\n",
    "        [1, 0, 0],\n",
    "        [1, 1, 1]],\n",
    "    3: [[1, 1, 1],\n",
    "        [0, 0, 1],\n",
    "        [1, 1, 1],\n",
    "        [0, 0, 1],\n",
    "        [1, 1, 1]],\n",
    "    4: [[1, 0, 1],\n",
    "        [1, 0, 1],\n",
    "        [1, 1, 1],\n",
    "        [0, 0, 1],\n",
    "        [0, 0, 1]],\n",
    "    5: [[1, 1, 1],\n",
    "        [1, 0, 0],\n",
    "        [1, 1, 1],\n",
    "        [0, 0, 1],\n",
    "        [1, 1, 1]],\n",
    "    6: [[1, 1, 1],\n",
    "        [1, 0, 0],\n",
    "        [1, 1, 1],\n",
    "        [1, 0, 1],\n",
    "        [1, 1, 1]],\n",
    "    7: [[1, 1, 1],\n",
    "        [0, 0, 1],\n",
    "        [0, 1, 0],\n",
    "        [1, 0, 0],\n",
    "        [1, 0, 0]],\n",
    "    8: [[1, 1, 1],\n",
    "        [1, 0, 1],\n",
    "        [1, 1, 1],\n",
    "        [1, 0, 1],\n",
    "        [1, 1, 1]],\n",
    "    9: [[1, 1, 1],\n",
    "        [1, 0, 1],\n",
    "        [1, 1, 1],\n",
    "        [0, 0, 1],\n",
    "        [1, 1, 1]]\n",
    " }"
   ]
  },
  {
   "cell_type": "code",
   "execution_count": 8,
   "id": "1913230d-2f3a-4c82-a2e5-e8df552ab2bb",
   "metadata": {},
   "outputs": [],
   "source": [
    " # Convert dictionary to a NumPy matrix (flattened 5x3 to 1D array)\n",
    " X = np.array([np.array(digits[i]).flatten() for i in range(10)])"
   ]
  },
  {
   "cell_type": "code",
   "execution_count": 10,
   "id": "bba05d51-1804-4dd7-90a6-e157f6613e5c",
   "metadata": {},
   "outputs": [],
   "source": [
    "# Identity matrix as labels (one-hot encoded)\n",
    "Y = np.eye(10)"
   ]
  },
  {
   "cell_type": "code",
   "execution_count": 11,
   "id": "29fda0e0-54a8-463f-be42-1ecc7abb8681",
   "metadata": {},
   "outputs": [],
   "source": [
    " # Train using Hebbian Learning (Weight Matrix W)\n",
    "W = np.dot(Y.T, X)"
   ]
  },
  {
   "cell_type": "code",
   "execution_count": 13,
   "id": "37fbe002-a475-4468-bb20-9207462a64de",
   "metadata": {},
   "outputs": [],
   "source": [
    " def recognize_number(x_test):\n",
    "    \"\"\"Recognize a given number based on the trained network\"\"\"\n",
    "    x_test = np.array(x_test).flatten()  # Flatten 5x3 to 1D\n",
    "    output = np.dot(W, x_test)  # Compute weighted sum\n",
    "    recognized_digit = np.argmax(output)  # Find max index \n",
    "# (corresponding to digit)\n",
    "    return recognized_digit"
   ]
  },
  {
   "cell_type": "code",
   "execution_count": 14,
   "id": "1e1cc0ca-07bd-4e16-a15f-1cfb132bb4ca",
   "metadata": {},
   "outputs": [
    {
     "name": "stdout",
     "output_type": "stream",
     "text": [
      "Recognized Digit: 3\n"
     ]
    }
   ],
   "source": [
    " # Test Data (Example: Recognizing digit '3')\n",
    " test_digit = [[1, 1, 1],\n",
    "              [0, 0, 1],\n",
    "              [1, 1, 1],\n",
    "              [0, 0, 1],\n",
    "              [1, 1, 1]]\n",
    " recognized = recognize_number(test_digit)\n",
    " print(\"Recognized Digit:\", recognized)"
   ]
  },
  {
   "cell_type": "code",
   "execution_count": null,
   "id": "bdc73584-db66-447c-9280-39f9ea9f2e33",
   "metadata": {},
   "outputs": [],
   "source": []
  }
 ],
 "metadata": {
  "kernelspec": {
   "display_name": "Python 3 (ipykernel)",
   "language": "python",
   "name": "python3"
  },
  "language_info": {
   "codemirror_mode": {
    "name": "ipython",
    "version": 3
   },
   "file_extension": ".py",
   "mimetype": "text/x-python",
   "name": "python",
   "nbconvert_exporter": "python",
   "pygments_lexer": "ipython3",
   "version": "3.12.4"
  }
 },
 "nbformat": 4,
 "nbformat_minor": 5
}
