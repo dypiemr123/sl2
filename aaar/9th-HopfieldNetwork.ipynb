{
 "cells": [
  {
   "cell_type": "code",
   "execution_count": null,
   "id": "aa97e296-89da-438d-ba5e-dba965b1267c",
   "metadata": {},
   "outputs": [],
   "source": [
    "Name: Aarya Admane 22630"
   ]
  },
  {
   "cell_type": "code",
   "execution_count": 1,
   "id": "b95ba11d-2a6f-492d-8cef-0de68864af86",
   "metadata": {},
   "outputs": [],
   "source": [
    "import numpy as np"
   ]
  },
  {
   "cell_type": "code",
   "execution_count": 2,
   "id": "6c53c127-a980-42f3-bc75-ccb92aedbf19",
   "metadata": {},
   "outputs": [],
   "source": [
    "class HopfieldNetwork:\n",
    "    def __init__(self, size):\n",
    "        self.size = size\n",
    "        self.weights = np.zeros((size, size))\n",
    "    \n",
    "    def train(self, patterns):\n",
    "        for pattern in patterns:\n",
    "            pattern = np.array(pattern).reshape(-1, 1)  # Ensure column vector\n",
    "            self.weights += np.outer(pattern, pattern)\n",
    "        np.fill_diagonal(self.weights, 0)  # No self-connections\n",
    "    \n",
    "    def recall(self, pattern, steps=5):\n",
    "        pattern = np.array(pattern)\n",
    "        for _ in range(steps):\n",
    "            pattern = np.sign(self.weights @ pattern)\n",
    "            pattern[pattern == 0] = 1  # Convert 0s to 1s for stability\n",
    "        return pattern"
   ]
  },
  {
   "cell_type": "code",
   "execution_count": 3,
   "id": "9a127c45-c01a-4287-9d3d-59e2497802f3",
   "metadata": {},
   "outputs": [
    {
     "name": "stdout",
     "output_type": "stream",
     "text": [
      "Original test pattern: [1, -1, 1, 1]\n",
      "Recalled pattern: [-1.0, -1.0, 1.0, -1.0]\n"
     ]
    }
   ],
   "source": [
    "if __name__ == \"__main__\":\n",
    "    # Define 4 stored patterns (bipolar: 1 or -1)\n",
    "    stored_patterns = [\n",
    "        [1, -1, 1, -1],\n",
    "        [-1, 1, -1, 1],\n",
    "        [1, 1, -1, -1],\n",
    "        [-1, -1, 1, 1]\n",
    "    ]\n",
    "    \n",
    "    size = len(stored_patterns[0])  # Size of the pattern vectors\n",
    "    hopfield = HopfieldNetwork(size)\n",
    "    hopfield.train(stored_patterns)\n",
    "    \n",
    "    # Testing pattern with noise\n",
    "    test_pattern = [1, -1, 1, 1]  # Slightly different from first pattern\n",
    "    recalled_pattern = hopfield.recall(test_pattern)\n",
    "    \n",
    "    print(f\"Original test pattern: {test_pattern}\")\n",
    "    print(f\"Recalled pattern: {recalled_pattern.tolist()}\")"
   ]
  },
  {
   "cell_type": "code",
   "execution_count": null,
   "id": "1ab3b13e-8f64-4e66-8672-6fa5d7ae5cb9",
   "metadata": {},
   "outputs": [],
   "source": []
  }
 ],
 "metadata": {
  "kernelspec": {
   "display_name": "Python 3 (ipykernel)",
   "language": "python",
   "name": "python3"
  },
  "language_info": {
   "codemirror_mode": {
    "name": "ipython",
    "version": 3
   },
   "file_extension": ".py",
   "mimetype": "text/x-python",
   "name": "python",
   "nbconvert_exporter": "python",
   "pygments_lexer": "ipython3",
   "version": "3.12.4"
  }
 },
 "nbformat": 4,
 "nbformat_minor": 5
}
