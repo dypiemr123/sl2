{
 "cells": [
  {
   "cell_type": "code",
   "execution_count": null,
   "id": "fdfac22e-cd6d-49fb-ab3d-6d5182ba0926",
   "metadata": {},
   "outputs": [],
   "source": [
    "Name:Aarya Admane\n",
    "RollNo:22630\n",
    "B-B2\n"
   ]
  },
  {
   "cell_type": "markdown",
   "id": "ea9f8033",
   "metadata": {},
   "source": [
    "import numpy as np"
   ]
  },
  {
   "cell_type": "code",
   "execution_count": 4,
   "id": "833cfed3-5f7e-4d61-9e90-750ff872ccd4",
   "metadata": {},
   "outputs": [],
   "source": [
    "def mp_neuron(inputs, weights, threshold):\n",
    " weighted_sum = np.dot(inputs, weights)\n",
    " output = 1 if weighted_sum >= threshold else 0\n",
    " return output"
   ]
  },
  {
   "cell_type": "code",
   "execution_count": 5,
   "id": "c675f140-bef4-4a2f-bce4-b2103bcf910e",
   "metadata": {},
   "outputs": [],
   "source": [
    "def and_not(x1, x2):\n",
    " weights = [1,-1]\n",
    " threshold = 1\n",
    " inputs = np.array([x1, x2])\n",
    " output = mp_neuron(inputs, weights, threshold)\n",
    " return output"
   ]
  },
  {
   "cell_type": "code",
   "execution_count": 6,
   "id": "f5184c66-77b3-4e21-a049-8af9b42f347d",
   "metadata": {},
   "outputs": [
    {
     "name": "stdout",
     "output_type": "stream",
     "text": [
      "X1 X2 Y\n",
      "0   0   0\n",
      "1   0   1\n",
      "0   1   0\n",
      "1   1   0\n"
     ]
    }
   ],
   "source": [
    " # Printing the output in required format\n",
    " print(\"X1 X2 Y\")\n",
    " print(0, \" \", 0, \" \", and_not(0, 0))\n",
    " print(1, \" \", 0, \" \", and_not(1, 0))\n",
    " print(0, \" \", 1, \" \", and_not(0, 1))\n",
    " print(1, \" \", 1, \" \", and_not(1, 1))"
   ]
  },
  {
   "cell_type": "code",
   "execution_count": null,
   "id": "cf7a7c91-9bc8-4b1a-97b2-db8acd8471ac",
   "metadata": {},
   "outputs": [],
   "source": []
  }
 ],
 "metadata": {
  "kernelspec": {
   "display_name": "Python 3 (ipykernel)",
   "language": "python",
   "name": "python3"
  },
  "language_info": {
   "codemirror_mode": {
    "name": "ipython",
    "version": 3
   },
   "file_extension": ".py",
   "mimetype": "text/x-python",
   "name": "python",
   "nbconvert_exporter": "python",
   "pygments_lexer": "ipython3",
   "version": "3.12.4"
  }
 },
 "nbformat": 4,
 "nbformat_minor": 5
}
